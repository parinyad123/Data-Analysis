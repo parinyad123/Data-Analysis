{
 "cells": [
  {
   "cell_type": "raw",
   "metadata": {},
   "source": [
    "# Heading 1\n",
    "## Heading 2\n",
    "###### This is heading 6"
   ]
  },
  {
   "cell_type": "markdown",
   "metadata": {},
   "source": [
    "# Heading 1\n",
    "## Heading 2\n",
    "###### This is heading 6"
   ]
  },
  {
   "cell_type": "markdown",
   "metadata": {},
   "source": [
    "* coffee\n",
    "* tea\n",
    "* soft drink"
   ]
  },
  {
   "cell_type": "markdown",
   "metadata": {},
   "source": [
    "1. Coffee\n",
    "2. Tea\n",
    "3. Soft drink\n",
    "4. Water"
   ]
  },
  {
   "cell_type": "markdown",
   "metadata": {},
   "source": [
    "1. Coffee\n",
    "    * mocha\n",
    "    * latte\n",
    "    * espresso\n",
    "2. Tea\n",
    "    * green\n",
    "    * jasmine\n",
    "3. Soft drink\n",
    "    * coke\n",
    "        * classic\n",
    "        * diet\n",
    "4. Water"
   ]
  },
  {
   "cell_type": "markdown",
   "metadata": {},
   "source": [
    "first line.  \n",
    "second line.  \n",
    "third line."
   ]
  },
  {
   "cell_type": "markdown",
   "metadata": {},
   "source": [
    "The *impossible* dream.  \n",
    "May the **force** be with you.  \n",
    "***You*** can't save the world alone.  \n",
    "Past ~~Present~~ Future"
   ]
  },
  {
   "cell_type": "markdown",
   "metadata": {},
   "source": [
    "The <span style=color:red>*impossible*</span> dream.  \n",
    "<span style=color:red;font-size:150%>May</span> the **force** be with you.  \n",
    "***You*** can't save the world alone.  \n",
    "Past ~~Present~~ Future"
   ]
  },
  {
   "cell_type": "markdown",
   "metadata": {},
   "source": [
    "### Hyperlink"
   ]
  },
  {
   "cell_type": "markdown",
   "metadata": {},
   "source": [
    "https://youtube.com  \n",
    "[Visit YouTube](https://youtube.com)\n",
    "### [Visit YouTube](https://youtube.com)\n"
   ]
  },
  {
   "cell_type": "markdown",
   "metadata": {},
   "source": [
    "### Image"
   ]
  },
  {
   "cell_type": "markdown",
   "metadata": {},
   "source": [
    "![](https://github.com/prasertcbs/tutorial/raw/master/RoyalBarge-001.jpg \"เรือพระที่นั่งสุพรรณหงส์\")"
   ]
  },
  {
   "cell_type": "markdown",
   "metadata": {},
   "source": [
    "5ส คือ แนวทางที่ใช้เพื่อปรับปรุงแก้ไขงานและรักษาสิ่งแวดล้อมในที่ทำงานให้ดีขึ้นในวงการการผลิตและวงการงานบริการเป็นต้น โดยการปฏิบัติตามหลัก 5ส ที่แปลมาจากภาษาญี่ปุ่น โดยในญี่ปุ่นเรียกกันว่า 5S ซึ่งได้แก่\n",
    "* สะสาง (ญี่ปุ่น: 整理 seiri ?) คือ การแยกของที่ต้องการ ออกจากของที่ไม่ต้องการ และขจัดของที่ไม่ต้องการทิ้งไป\n",
    "* สะดวก (ญี่ปุ่น: 整頓 seiton ?) คือ การจัดวางสิ่งของต่างๆ ในที่ทำงานให้เป็นระเบียบ เพื่อความสะดวกในการใช้งานและปลอดภัย\n",
    "* สะอาด (ญี่ปุ่น: 清掃 seiso ?) คือ การทำความสะอาด (ปัด กวาด เช็ด ถู) เครื่องจักร อุปกรณ์ และ สถานที่ทำงาน\n",
    "* สุขลักษณะ (ญี่ปุ่น: 清潔 seiketsu ?) คือ สภาพหมดจด สะอาดตา ถูกสุขลักษณะ และรักษาให้ดี ตลอดไป\n",
    "* สร้างนิสัย (ญี่ปุ่น: 躾 shitsuke ?) คือ การอบรม สร้างนิสัย ในการปฏิบัติงานตามระเบียบ วินัยข้อบังคับอย่างเคร่งครัด"
   ]
  }
 ],
 "metadata": {
  "kernelspec": {
   "display_name": "Python 3",
   "language": "python",
   "name": "python3"
  },
  "language_info": {
   "codemirror_mode": {
    "name": "ipython",
    "version": 3
   },
   "file_extension": ".py",
   "mimetype": "text/x-python",
   "name": "python",
   "nbconvert_exporter": "python",
   "pygments_lexer": "ipython3",
   "version": "3.6.5"
  }
 },
 "nbformat": 4,
 "nbformat_minor": 2
}
