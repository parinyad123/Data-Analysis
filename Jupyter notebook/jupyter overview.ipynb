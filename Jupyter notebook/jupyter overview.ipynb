{
 "cells": [
  {
   "cell_type": "markdown",
   "metadata": {},
   "source": [
    "# Mammal sleep\n",
    "# ศึกษาการนอนของสัตว์เลี้ยงลูกด้วยนม\n",
    "https://en.wikipedia.org/wiki/Mammal"
   ]
  },
  {
   "cell_type": "code",
   "execution_count": 2,
   "metadata": {},
   "outputs": [],
   "source": [
    "from IPython.display import HTML, YouTubeVideo, IFrame"
   ]
  },
  {
   "cell_type": "code",
   "execution_count": 3,
   "metadata": {},
   "outputs": [],
   "source": [
    "import pandas as pd\n",
    "import numpy as np\n",
    "import matplotlib.pyplot as plt\n",
    "%matplotlib inline"
   ]
  },
  {
   "cell_type": "code",
   "execution_count": 3,
   "metadata": {
    "scrolled": false
   },
   "outputs": [
    {
     "data": {
      "text/html": [
       "<div>\n",
       "<style scoped>\n",
       "    .dataframe tbody tr th:only-of-type {\n",
       "        vertical-align: middle;\n",
       "    }\n",
       "\n",
       "    .dataframe tbody tr th {\n",
       "        vertical-align: top;\n",
       "    }\n",
       "\n",
       "    .dataframe thead th {\n",
       "        text-align: right;\n",
       "    }\n",
       "</style>\n",
       "<table border=\"1\" class=\"dataframe\">\n",
       "  <thead>\n",
       "    <tr style=\"text-align: right;\">\n",
       "      <th></th>\n",
       "      <th>name</th>\n",
       "      <th>genus</th>\n",
       "      <th>vore</th>\n",
       "      <th>order</th>\n",
       "      <th>conservation</th>\n",
       "      <th>sleep_total</th>\n",
       "      <th>sleep_rem</th>\n",
       "      <th>sleep_cycle</th>\n",
       "      <th>awake</th>\n",
       "      <th>brainwt</th>\n",
       "      <th>bodywt</th>\n",
       "    </tr>\n",
       "  </thead>\n",
       "  <tbody>\n",
       "    <tr>\n",
       "      <th>0</th>\n",
       "      <td>Cheetah</td>\n",
       "      <td>Acinonyx</td>\n",
       "      <td>carni</td>\n",
       "      <td>Carnivora</td>\n",
       "      <td>lc</td>\n",
       "      <td>12.1</td>\n",
       "      <td>NaN</td>\n",
       "      <td>NaN</td>\n",
       "      <td>11.9</td>\n",
       "      <td>NaN</td>\n",
       "      <td>50.000</td>\n",
       "    </tr>\n",
       "    <tr>\n",
       "      <th>1</th>\n",
       "      <td>Owl monkey</td>\n",
       "      <td>Aotus</td>\n",
       "      <td>omni</td>\n",
       "      <td>Primates</td>\n",
       "      <td>NaN</td>\n",
       "      <td>17.0</td>\n",
       "      <td>1.8</td>\n",
       "      <td>NaN</td>\n",
       "      <td>7.0</td>\n",
       "      <td>0.01550</td>\n",
       "      <td>0.480</td>\n",
       "    </tr>\n",
       "    <tr>\n",
       "      <th>2</th>\n",
       "      <td>Mountain beaver</td>\n",
       "      <td>Aplodontia</td>\n",
       "      <td>herbi</td>\n",
       "      <td>Rodentia</td>\n",
       "      <td>nt</td>\n",
       "      <td>14.4</td>\n",
       "      <td>2.4</td>\n",
       "      <td>NaN</td>\n",
       "      <td>9.6</td>\n",
       "      <td>NaN</td>\n",
       "      <td>1.350</td>\n",
       "    </tr>\n",
       "    <tr>\n",
       "      <th>3</th>\n",
       "      <td>Greater short-tailed shrew</td>\n",
       "      <td>Blarina</td>\n",
       "      <td>omni</td>\n",
       "      <td>Soricomorpha</td>\n",
       "      <td>lc</td>\n",
       "      <td>14.9</td>\n",
       "      <td>2.3</td>\n",
       "      <td>0.133333</td>\n",
       "      <td>9.1</td>\n",
       "      <td>0.00029</td>\n",
       "      <td>0.019</td>\n",
       "    </tr>\n",
       "    <tr>\n",
       "      <th>4</th>\n",
       "      <td>Cow</td>\n",
       "      <td>Bos</td>\n",
       "      <td>herbi</td>\n",
       "      <td>Artiodactyla</td>\n",
       "      <td>domesticated</td>\n",
       "      <td>4.0</td>\n",
       "      <td>0.7</td>\n",
       "      <td>0.666667</td>\n",
       "      <td>20.0</td>\n",
       "      <td>0.42300</td>\n",
       "      <td>600.000</td>\n",
       "    </tr>\n",
       "    <tr>\n",
       "      <th>5</th>\n",
       "      <td>Three-toed sloth</td>\n",
       "      <td>Bradypus</td>\n",
       "      <td>herbi</td>\n",
       "      <td>Pilosa</td>\n",
       "      <td>NaN</td>\n",
       "      <td>14.4</td>\n",
       "      <td>2.2</td>\n",
       "      <td>0.766667</td>\n",
       "      <td>9.6</td>\n",
       "      <td>NaN</td>\n",
       "      <td>3.850</td>\n",
       "    </tr>\n",
       "    <tr>\n",
       "      <th>6</th>\n",
       "      <td>Northern fur seal</td>\n",
       "      <td>Callorhinus</td>\n",
       "      <td>carni</td>\n",
       "      <td>Carnivora</td>\n",
       "      <td>vu</td>\n",
       "      <td>8.7</td>\n",
       "      <td>1.4</td>\n",
       "      <td>0.383333</td>\n",
       "      <td>15.3</td>\n",
       "      <td>NaN</td>\n",
       "      <td>20.490</td>\n",
       "    </tr>\n",
       "    <tr>\n",
       "      <th>7</th>\n",
       "      <td>Vesper mouse</td>\n",
       "      <td>Calomys</td>\n",
       "      <td>NaN</td>\n",
       "      <td>Rodentia</td>\n",
       "      <td>NaN</td>\n",
       "      <td>7.0</td>\n",
       "      <td>NaN</td>\n",
       "      <td>NaN</td>\n",
       "      <td>17.0</td>\n",
       "      <td>NaN</td>\n",
       "      <td>0.045</td>\n",
       "    </tr>\n",
       "    <tr>\n",
       "      <th>8</th>\n",
       "      <td>Dog</td>\n",
       "      <td>Canis</td>\n",
       "      <td>carni</td>\n",
       "      <td>Carnivora</td>\n",
       "      <td>domesticated</td>\n",
       "      <td>10.1</td>\n",
       "      <td>2.9</td>\n",
       "      <td>0.333333</td>\n",
       "      <td>13.9</td>\n",
       "      <td>0.07000</td>\n",
       "      <td>14.000</td>\n",
       "    </tr>\n",
       "    <tr>\n",
       "      <th>9</th>\n",
       "      <td>Roe deer</td>\n",
       "      <td>Capreolus</td>\n",
       "      <td>herbi</td>\n",
       "      <td>Artiodactyla</td>\n",
       "      <td>lc</td>\n",
       "      <td>3.0</td>\n",
       "      <td>NaN</td>\n",
       "      <td>NaN</td>\n",
       "      <td>21.0</td>\n",
       "      <td>0.09820</td>\n",
       "      <td>14.800</td>\n",
       "    </tr>\n",
       "  </tbody>\n",
       "</table>\n",
       "</div>"
      ],
      "text/plain": [
       "                         name        genus   vore         order  conservation  \\\n",
       "0                     Cheetah     Acinonyx  carni     Carnivora            lc   \n",
       "1                  Owl monkey        Aotus   omni      Primates           NaN   \n",
       "2             Mountain beaver   Aplodontia  herbi      Rodentia            nt   \n",
       "3  Greater short-tailed shrew      Blarina   omni  Soricomorpha            lc   \n",
       "4                         Cow          Bos  herbi  Artiodactyla  domesticated   \n",
       "5            Three-toed sloth     Bradypus  herbi        Pilosa           NaN   \n",
       "6           Northern fur seal  Callorhinus  carni     Carnivora            vu   \n",
       "7                Vesper mouse      Calomys    NaN      Rodentia           NaN   \n",
       "8                         Dog        Canis  carni     Carnivora  domesticated   \n",
       "9                    Roe deer    Capreolus  herbi  Artiodactyla            lc   \n",
       "\n",
       "   sleep_total  sleep_rem  sleep_cycle  awake  brainwt   bodywt  \n",
       "0         12.1        NaN          NaN   11.9      NaN   50.000  \n",
       "1         17.0        1.8          NaN    7.0  0.01550    0.480  \n",
       "2         14.4        2.4          NaN    9.6      NaN    1.350  \n",
       "3         14.9        2.3     0.133333    9.1  0.00029    0.019  \n",
       "4          4.0        0.7     0.666667   20.0  0.42300  600.000  \n",
       "5         14.4        2.2     0.766667    9.6      NaN    3.850  \n",
       "6          8.7        1.4     0.383333   15.3      NaN   20.490  \n",
       "7          7.0        NaN          NaN   17.0      NaN    0.045  \n",
       "8         10.1        2.9     0.333333   13.9  0.07000   14.000  \n",
       "9          3.0        NaN          NaN   21.0  0.09820   14.800  "
      ]
     },
     "execution_count": 3,
     "metadata": {},
     "output_type": "execute_result"
    }
   ],
   "source": [
    "df=pd.read_csv('https://github.com/prasertcbs/tutorial/raw/master/msleep.csv', nrows=10)\n",
    "df[:10]"
   ]
  },
  {
   "cell_type": "markdown",
   "metadata": {},
   "source": [
    "## Display Web page"
   ]
  },
  {
   "cell_type": "code",
   "execution_count": 4,
   "metadata": {
    "scrolled": true
   },
   "outputs": [
    {
     "data": {
      "text/html": [
       "\n",
       "        <iframe\n",
       "            width=\"800\"\n",
       "            height=\"450\"\n",
       "            src=\"https://th.wikipedia.org/wiki/สัตว์เลี้ยงลูกด้วยน้ำนม\"\n",
       "            frameborder=\"0\"\n",
       "            allowfullscreen\n",
       "        ></iframe>\n",
       "        "
      ],
      "text/plain": [
       "<IPython.lib.display.IFrame at 0x112bdfcc0>"
      ]
     },
     "execution_count": 4,
     "metadata": {},
     "output_type": "execute_result"
    }
   ],
   "source": [
    "IFrame('https://th.wikipedia.org/wiki/สัตว์เลี้ยงลูกด้วยน้ำนม', width=800, height=450)"
   ]
  },
  {
   "cell_type": "code",
   "execution_count": 4,
   "metadata": {
    "scrolled": true
   },
   "outputs": [
    {
     "data": {
      "text/html": [
       "\n",
       "        <iframe\n",
       "            width=\"800\"\n",
       "            height=\"450\"\n",
       "            src=\"https://en.wikipedia.org/wiki/Mammal\"\n",
       "            frameborder=\"0\"\n",
       "            allowfullscreen\n",
       "        ></iframe>\n",
       "        "
      ],
      "text/plain": [
       "<IPython.lib.display.IFrame at 0x110b2e0f0>"
      ]
     },
     "execution_count": 4,
     "metadata": {},
     "output_type": "execute_result"
    }
   ],
   "source": [
    "IFrame('https://en.wikipedia.org/wiki/Mammal', width=800, height=450)"
   ]
  },
  {
   "cell_type": "markdown",
   "metadata": {},
   "source": [
    "## Display PDF\n",
    "https://www.datacamp.com/community/data-science-cheatsheets"
   ]
  },
  {
   "cell_type": "code",
   "execution_count": 5,
   "metadata": {
    "scrolled": true
   },
   "outputs": [
    {
     "data": {
      "text/html": [
       "\n",
       "        <iframe\n",
       "            width=\"800\"\n",
       "            height=\"450\"\n",
       "            src=\"http://datacamp-community.s3.amazonaws.com/48093c40-5303-45f4-bbf9-0c96c0133c40\"\n",
       "            frameborder=\"0\"\n",
       "            allowfullscreen\n",
       "        ></iframe>\n",
       "        "
      ],
      "text/plain": [
       "<IPython.lib.display.IFrame at 0x110b2e2e8>"
      ]
     },
     "execution_count": 5,
     "metadata": {},
     "output_type": "execute_result"
    }
   ],
   "source": [
    "IFrame('http://datacamp-community.s3.amazonaws.com/48093c40-5303-45f4-bbf9-0c96c0133c40', width=800, height=450)"
   ]
  },
  {
   "cell_type": "markdown",
   "metadata": {},
   "source": [
    "## เรือพระที่นั่งสุพรรณหงส์\n",
    "![](https://github.com/prasertcbs/tutorial/raw/master/RoyalBarge-001.jpg \"เรือพระที่นั่งสุพรรณหงส์\")\n"
   ]
  },
  {
   "cell_type": "code",
   "execution_count": 6,
   "metadata": {},
   "outputs": [
    {
     "data": {
      "text/html": [
       "<style  type=\"text/css\" >\n",
       "    #T_7f0921d4_c758_11e7_9328_28cfe920d4e5row1_col5 {\n",
       "            background-color:  deepskyblue;\n",
       "            : ;\n",
       "        }    #T_7f0921d4_c758_11e7_9328_28cfe920d4e5row9_col5 {\n",
       "            : ;\n",
       "            background-color:  tan;\n",
       "        }</style>  \n",
       "<table id=\"T_7f0921d4_c758_11e7_9328_28cfe920d4e5\" > \n",
       "<thead>    <tr> \n",
       "        <th class=\"blank level0\" ></th> \n",
       "        <th class=\"col_heading level0 col0\" >name</th> \n",
       "        <th class=\"col_heading level0 col1\" >genus</th> \n",
       "        <th class=\"col_heading level0 col2\" >vore</th> \n",
       "        <th class=\"col_heading level0 col3\" >order</th> \n",
       "        <th class=\"col_heading level0 col4\" >conservation</th> \n",
       "        <th class=\"col_heading level0 col5\" >sleep_total</th> \n",
       "        <th class=\"col_heading level0 col6\" >sleep_rem</th> \n",
       "        <th class=\"col_heading level0 col7\" >sleep_cycle</th> \n",
       "        <th class=\"col_heading level0 col8\" >awake</th> \n",
       "        <th class=\"col_heading level0 col9\" >brainwt</th> \n",
       "        <th class=\"col_heading level0 col10\" >bodywt</th> \n",
       "    </tr></thead> \n",
       "<tbody>    <tr> \n",
       "        <th id=\"T_7f0921d4_c758_11e7_9328_28cfe920d4e5level0_row0\" class=\"row_heading level0 row0\" >0</th> \n",
       "        <td id=\"T_7f0921d4_c758_11e7_9328_28cfe920d4e5row0_col0\" class=\"data row0 col0\" >Cheetah</td> \n",
       "        <td id=\"T_7f0921d4_c758_11e7_9328_28cfe920d4e5row0_col1\" class=\"data row0 col1\" >Acinonyx</td> \n",
       "        <td id=\"T_7f0921d4_c758_11e7_9328_28cfe920d4e5row0_col2\" class=\"data row0 col2\" >carni</td> \n",
       "        <td id=\"T_7f0921d4_c758_11e7_9328_28cfe920d4e5row0_col3\" class=\"data row0 col3\" >Carnivora</td> \n",
       "        <td id=\"T_7f0921d4_c758_11e7_9328_28cfe920d4e5row0_col4\" class=\"data row0 col4\" >lc</td> \n",
       "        <td id=\"T_7f0921d4_c758_11e7_9328_28cfe920d4e5row0_col5\" class=\"data row0 col5\" >12.1</td> \n",
       "        <td id=\"T_7f0921d4_c758_11e7_9328_28cfe920d4e5row0_col6\" class=\"data row0 col6\" >nan</td> \n",
       "        <td id=\"T_7f0921d4_c758_11e7_9328_28cfe920d4e5row0_col7\" class=\"data row0 col7\" >nan</td> \n",
       "        <td id=\"T_7f0921d4_c758_11e7_9328_28cfe920d4e5row0_col8\" class=\"data row0 col8\" >11.9</td> \n",
       "        <td id=\"T_7f0921d4_c758_11e7_9328_28cfe920d4e5row0_col9\" class=\"data row0 col9\" >nan</td> \n",
       "        <td id=\"T_7f0921d4_c758_11e7_9328_28cfe920d4e5row0_col10\" class=\"data row0 col10\" >50</td> \n",
       "    </tr>    <tr> \n",
       "        <th id=\"T_7f0921d4_c758_11e7_9328_28cfe920d4e5level0_row1\" class=\"row_heading level0 row1\" >1</th> \n",
       "        <td id=\"T_7f0921d4_c758_11e7_9328_28cfe920d4e5row1_col0\" class=\"data row1 col0\" >Owl monkey</td> \n",
       "        <td id=\"T_7f0921d4_c758_11e7_9328_28cfe920d4e5row1_col1\" class=\"data row1 col1\" >Aotus</td> \n",
       "        <td id=\"T_7f0921d4_c758_11e7_9328_28cfe920d4e5row1_col2\" class=\"data row1 col2\" >omni</td> \n",
       "        <td id=\"T_7f0921d4_c758_11e7_9328_28cfe920d4e5row1_col3\" class=\"data row1 col3\" >Primates</td> \n",
       "        <td id=\"T_7f0921d4_c758_11e7_9328_28cfe920d4e5row1_col4\" class=\"data row1 col4\" >nan</td> \n",
       "        <td id=\"T_7f0921d4_c758_11e7_9328_28cfe920d4e5row1_col5\" class=\"data row1 col5\" >17</td> \n",
       "        <td id=\"T_7f0921d4_c758_11e7_9328_28cfe920d4e5row1_col6\" class=\"data row1 col6\" >1.8</td> \n",
       "        <td id=\"T_7f0921d4_c758_11e7_9328_28cfe920d4e5row1_col7\" class=\"data row1 col7\" >nan</td> \n",
       "        <td id=\"T_7f0921d4_c758_11e7_9328_28cfe920d4e5row1_col8\" class=\"data row1 col8\" >7</td> \n",
       "        <td id=\"T_7f0921d4_c758_11e7_9328_28cfe920d4e5row1_col9\" class=\"data row1 col9\" >0.0155</td> \n",
       "        <td id=\"T_7f0921d4_c758_11e7_9328_28cfe920d4e5row1_col10\" class=\"data row1 col10\" >0.48</td> \n",
       "    </tr>    <tr> \n",
       "        <th id=\"T_7f0921d4_c758_11e7_9328_28cfe920d4e5level0_row2\" class=\"row_heading level0 row2\" >2</th> \n",
       "        <td id=\"T_7f0921d4_c758_11e7_9328_28cfe920d4e5row2_col0\" class=\"data row2 col0\" >Mountain beaver</td> \n",
       "        <td id=\"T_7f0921d4_c758_11e7_9328_28cfe920d4e5row2_col1\" class=\"data row2 col1\" >Aplodontia</td> \n",
       "        <td id=\"T_7f0921d4_c758_11e7_9328_28cfe920d4e5row2_col2\" class=\"data row2 col2\" >herbi</td> \n",
       "        <td id=\"T_7f0921d4_c758_11e7_9328_28cfe920d4e5row2_col3\" class=\"data row2 col3\" >Rodentia</td> \n",
       "        <td id=\"T_7f0921d4_c758_11e7_9328_28cfe920d4e5row2_col4\" class=\"data row2 col4\" >nt</td> \n",
       "        <td id=\"T_7f0921d4_c758_11e7_9328_28cfe920d4e5row2_col5\" class=\"data row2 col5\" >14.4</td> \n",
       "        <td id=\"T_7f0921d4_c758_11e7_9328_28cfe920d4e5row2_col6\" class=\"data row2 col6\" >2.4</td> \n",
       "        <td id=\"T_7f0921d4_c758_11e7_9328_28cfe920d4e5row2_col7\" class=\"data row2 col7\" >nan</td> \n",
       "        <td id=\"T_7f0921d4_c758_11e7_9328_28cfe920d4e5row2_col8\" class=\"data row2 col8\" >9.6</td> \n",
       "        <td id=\"T_7f0921d4_c758_11e7_9328_28cfe920d4e5row2_col9\" class=\"data row2 col9\" >nan</td> \n",
       "        <td id=\"T_7f0921d4_c758_11e7_9328_28cfe920d4e5row2_col10\" class=\"data row2 col10\" >1.35</td> \n",
       "    </tr>    <tr> \n",
       "        <th id=\"T_7f0921d4_c758_11e7_9328_28cfe920d4e5level0_row3\" class=\"row_heading level0 row3\" >3</th> \n",
       "        <td id=\"T_7f0921d4_c758_11e7_9328_28cfe920d4e5row3_col0\" class=\"data row3 col0\" >Greater short-tailed shrew</td> \n",
       "        <td id=\"T_7f0921d4_c758_11e7_9328_28cfe920d4e5row3_col1\" class=\"data row3 col1\" >Blarina</td> \n",
       "        <td id=\"T_7f0921d4_c758_11e7_9328_28cfe920d4e5row3_col2\" class=\"data row3 col2\" >omni</td> \n",
       "        <td id=\"T_7f0921d4_c758_11e7_9328_28cfe920d4e5row3_col3\" class=\"data row3 col3\" >Soricomorpha</td> \n",
       "        <td id=\"T_7f0921d4_c758_11e7_9328_28cfe920d4e5row3_col4\" class=\"data row3 col4\" >lc</td> \n",
       "        <td id=\"T_7f0921d4_c758_11e7_9328_28cfe920d4e5row3_col5\" class=\"data row3 col5\" >14.9</td> \n",
       "        <td id=\"T_7f0921d4_c758_11e7_9328_28cfe920d4e5row3_col6\" class=\"data row3 col6\" >2.3</td> \n",
       "        <td id=\"T_7f0921d4_c758_11e7_9328_28cfe920d4e5row3_col7\" class=\"data row3 col7\" >0.133333</td> \n",
       "        <td id=\"T_7f0921d4_c758_11e7_9328_28cfe920d4e5row3_col8\" class=\"data row3 col8\" >9.1</td> \n",
       "        <td id=\"T_7f0921d4_c758_11e7_9328_28cfe920d4e5row3_col9\" class=\"data row3 col9\" >0.00029</td> \n",
       "        <td id=\"T_7f0921d4_c758_11e7_9328_28cfe920d4e5row3_col10\" class=\"data row3 col10\" >0.019</td> \n",
       "    </tr>    <tr> \n",
       "        <th id=\"T_7f0921d4_c758_11e7_9328_28cfe920d4e5level0_row4\" class=\"row_heading level0 row4\" >4</th> \n",
       "        <td id=\"T_7f0921d4_c758_11e7_9328_28cfe920d4e5row4_col0\" class=\"data row4 col0\" >Cow</td> \n",
       "        <td id=\"T_7f0921d4_c758_11e7_9328_28cfe920d4e5row4_col1\" class=\"data row4 col1\" >Bos</td> \n",
       "        <td id=\"T_7f0921d4_c758_11e7_9328_28cfe920d4e5row4_col2\" class=\"data row4 col2\" >herbi</td> \n",
       "        <td id=\"T_7f0921d4_c758_11e7_9328_28cfe920d4e5row4_col3\" class=\"data row4 col3\" >Artiodactyla</td> \n",
       "        <td id=\"T_7f0921d4_c758_11e7_9328_28cfe920d4e5row4_col4\" class=\"data row4 col4\" >domesticated</td> \n",
       "        <td id=\"T_7f0921d4_c758_11e7_9328_28cfe920d4e5row4_col5\" class=\"data row4 col5\" >4</td> \n",
       "        <td id=\"T_7f0921d4_c758_11e7_9328_28cfe920d4e5row4_col6\" class=\"data row4 col6\" >0.7</td> \n",
       "        <td id=\"T_7f0921d4_c758_11e7_9328_28cfe920d4e5row4_col7\" class=\"data row4 col7\" >0.666667</td> \n",
       "        <td id=\"T_7f0921d4_c758_11e7_9328_28cfe920d4e5row4_col8\" class=\"data row4 col8\" >20</td> \n",
       "        <td id=\"T_7f0921d4_c758_11e7_9328_28cfe920d4e5row4_col9\" class=\"data row4 col9\" >0.423</td> \n",
       "        <td id=\"T_7f0921d4_c758_11e7_9328_28cfe920d4e5row4_col10\" class=\"data row4 col10\" >600</td> \n",
       "    </tr>    <tr> \n",
       "        <th id=\"T_7f0921d4_c758_11e7_9328_28cfe920d4e5level0_row5\" class=\"row_heading level0 row5\" >5</th> \n",
       "        <td id=\"T_7f0921d4_c758_11e7_9328_28cfe920d4e5row5_col0\" class=\"data row5 col0\" >Three-toed sloth</td> \n",
       "        <td id=\"T_7f0921d4_c758_11e7_9328_28cfe920d4e5row5_col1\" class=\"data row5 col1\" >Bradypus</td> \n",
       "        <td id=\"T_7f0921d4_c758_11e7_9328_28cfe920d4e5row5_col2\" class=\"data row5 col2\" >herbi</td> \n",
       "        <td id=\"T_7f0921d4_c758_11e7_9328_28cfe920d4e5row5_col3\" class=\"data row5 col3\" >Pilosa</td> \n",
       "        <td id=\"T_7f0921d4_c758_11e7_9328_28cfe920d4e5row5_col4\" class=\"data row5 col4\" >nan</td> \n",
       "        <td id=\"T_7f0921d4_c758_11e7_9328_28cfe920d4e5row5_col5\" class=\"data row5 col5\" >14.4</td> \n",
       "        <td id=\"T_7f0921d4_c758_11e7_9328_28cfe920d4e5row5_col6\" class=\"data row5 col6\" >2.2</td> \n",
       "        <td id=\"T_7f0921d4_c758_11e7_9328_28cfe920d4e5row5_col7\" class=\"data row5 col7\" >0.766667</td> \n",
       "        <td id=\"T_7f0921d4_c758_11e7_9328_28cfe920d4e5row5_col8\" class=\"data row5 col8\" >9.6</td> \n",
       "        <td id=\"T_7f0921d4_c758_11e7_9328_28cfe920d4e5row5_col9\" class=\"data row5 col9\" >nan</td> \n",
       "        <td id=\"T_7f0921d4_c758_11e7_9328_28cfe920d4e5row5_col10\" class=\"data row5 col10\" >3.85</td> \n",
       "    </tr>    <tr> \n",
       "        <th id=\"T_7f0921d4_c758_11e7_9328_28cfe920d4e5level0_row6\" class=\"row_heading level0 row6\" >6</th> \n",
       "        <td id=\"T_7f0921d4_c758_11e7_9328_28cfe920d4e5row6_col0\" class=\"data row6 col0\" >Northern fur seal</td> \n",
       "        <td id=\"T_7f0921d4_c758_11e7_9328_28cfe920d4e5row6_col1\" class=\"data row6 col1\" >Callorhinus</td> \n",
       "        <td id=\"T_7f0921d4_c758_11e7_9328_28cfe920d4e5row6_col2\" class=\"data row6 col2\" >carni</td> \n",
       "        <td id=\"T_7f0921d4_c758_11e7_9328_28cfe920d4e5row6_col3\" class=\"data row6 col3\" >Carnivora</td> \n",
       "        <td id=\"T_7f0921d4_c758_11e7_9328_28cfe920d4e5row6_col4\" class=\"data row6 col4\" >vu</td> \n",
       "        <td id=\"T_7f0921d4_c758_11e7_9328_28cfe920d4e5row6_col5\" class=\"data row6 col5\" >8.7</td> \n",
       "        <td id=\"T_7f0921d4_c758_11e7_9328_28cfe920d4e5row6_col6\" class=\"data row6 col6\" >1.4</td> \n",
       "        <td id=\"T_7f0921d4_c758_11e7_9328_28cfe920d4e5row6_col7\" class=\"data row6 col7\" >0.383333</td> \n",
       "        <td id=\"T_7f0921d4_c758_11e7_9328_28cfe920d4e5row6_col8\" class=\"data row6 col8\" >15.3</td> \n",
       "        <td id=\"T_7f0921d4_c758_11e7_9328_28cfe920d4e5row6_col9\" class=\"data row6 col9\" >nan</td> \n",
       "        <td id=\"T_7f0921d4_c758_11e7_9328_28cfe920d4e5row6_col10\" class=\"data row6 col10\" >20.49</td> \n",
       "    </tr>    <tr> \n",
       "        <th id=\"T_7f0921d4_c758_11e7_9328_28cfe920d4e5level0_row7\" class=\"row_heading level0 row7\" >7</th> \n",
       "        <td id=\"T_7f0921d4_c758_11e7_9328_28cfe920d4e5row7_col0\" class=\"data row7 col0\" >Vesper mouse</td> \n",
       "        <td id=\"T_7f0921d4_c758_11e7_9328_28cfe920d4e5row7_col1\" class=\"data row7 col1\" >Calomys</td> \n",
       "        <td id=\"T_7f0921d4_c758_11e7_9328_28cfe920d4e5row7_col2\" class=\"data row7 col2\" >nan</td> \n",
       "        <td id=\"T_7f0921d4_c758_11e7_9328_28cfe920d4e5row7_col3\" class=\"data row7 col3\" >Rodentia</td> \n",
       "        <td id=\"T_7f0921d4_c758_11e7_9328_28cfe920d4e5row7_col4\" class=\"data row7 col4\" >nan</td> \n",
       "        <td id=\"T_7f0921d4_c758_11e7_9328_28cfe920d4e5row7_col5\" class=\"data row7 col5\" >7</td> \n",
       "        <td id=\"T_7f0921d4_c758_11e7_9328_28cfe920d4e5row7_col6\" class=\"data row7 col6\" >nan</td> \n",
       "        <td id=\"T_7f0921d4_c758_11e7_9328_28cfe920d4e5row7_col7\" class=\"data row7 col7\" >nan</td> \n",
       "        <td id=\"T_7f0921d4_c758_11e7_9328_28cfe920d4e5row7_col8\" class=\"data row7 col8\" >17</td> \n",
       "        <td id=\"T_7f0921d4_c758_11e7_9328_28cfe920d4e5row7_col9\" class=\"data row7 col9\" >nan</td> \n",
       "        <td id=\"T_7f0921d4_c758_11e7_9328_28cfe920d4e5row7_col10\" class=\"data row7 col10\" >0.045</td> \n",
       "    </tr>    <tr> \n",
       "        <th id=\"T_7f0921d4_c758_11e7_9328_28cfe920d4e5level0_row8\" class=\"row_heading level0 row8\" >8</th> \n",
       "        <td id=\"T_7f0921d4_c758_11e7_9328_28cfe920d4e5row8_col0\" class=\"data row8 col0\" >Dog</td> \n",
       "        <td id=\"T_7f0921d4_c758_11e7_9328_28cfe920d4e5row8_col1\" class=\"data row8 col1\" >Canis</td> \n",
       "        <td id=\"T_7f0921d4_c758_11e7_9328_28cfe920d4e5row8_col2\" class=\"data row8 col2\" >carni</td> \n",
       "        <td id=\"T_7f0921d4_c758_11e7_9328_28cfe920d4e5row8_col3\" class=\"data row8 col3\" >Carnivora</td> \n",
       "        <td id=\"T_7f0921d4_c758_11e7_9328_28cfe920d4e5row8_col4\" class=\"data row8 col4\" >domesticated</td> \n",
       "        <td id=\"T_7f0921d4_c758_11e7_9328_28cfe920d4e5row8_col5\" class=\"data row8 col5\" >10.1</td> \n",
       "        <td id=\"T_7f0921d4_c758_11e7_9328_28cfe920d4e5row8_col6\" class=\"data row8 col6\" >2.9</td> \n",
       "        <td id=\"T_7f0921d4_c758_11e7_9328_28cfe920d4e5row8_col7\" class=\"data row8 col7\" >0.333333</td> \n",
       "        <td id=\"T_7f0921d4_c758_11e7_9328_28cfe920d4e5row8_col8\" class=\"data row8 col8\" >13.9</td> \n",
       "        <td id=\"T_7f0921d4_c758_11e7_9328_28cfe920d4e5row8_col9\" class=\"data row8 col9\" >0.07</td> \n",
       "        <td id=\"T_7f0921d4_c758_11e7_9328_28cfe920d4e5row8_col10\" class=\"data row8 col10\" >14</td> \n",
       "    </tr>    <tr> \n",
       "        <th id=\"T_7f0921d4_c758_11e7_9328_28cfe920d4e5level0_row9\" class=\"row_heading level0 row9\" >9</th> \n",
       "        <td id=\"T_7f0921d4_c758_11e7_9328_28cfe920d4e5row9_col0\" class=\"data row9 col0\" >Roe deer</td> \n",
       "        <td id=\"T_7f0921d4_c758_11e7_9328_28cfe920d4e5row9_col1\" class=\"data row9 col1\" >Capreolus</td> \n",
       "        <td id=\"T_7f0921d4_c758_11e7_9328_28cfe920d4e5row9_col2\" class=\"data row9 col2\" >herbi</td> \n",
       "        <td id=\"T_7f0921d4_c758_11e7_9328_28cfe920d4e5row9_col3\" class=\"data row9 col3\" >Artiodactyla</td> \n",
       "        <td id=\"T_7f0921d4_c758_11e7_9328_28cfe920d4e5row9_col4\" class=\"data row9 col4\" >lc</td> \n",
       "        <td id=\"T_7f0921d4_c758_11e7_9328_28cfe920d4e5row9_col5\" class=\"data row9 col5\" >3</td> \n",
       "        <td id=\"T_7f0921d4_c758_11e7_9328_28cfe920d4e5row9_col6\" class=\"data row9 col6\" >nan</td> \n",
       "        <td id=\"T_7f0921d4_c758_11e7_9328_28cfe920d4e5row9_col7\" class=\"data row9 col7\" >nan</td> \n",
       "        <td id=\"T_7f0921d4_c758_11e7_9328_28cfe920d4e5row9_col8\" class=\"data row9 col8\" >21</td> \n",
       "        <td id=\"T_7f0921d4_c758_11e7_9328_28cfe920d4e5row9_col9\" class=\"data row9 col9\" >0.0982</td> \n",
       "        <td id=\"T_7f0921d4_c758_11e7_9328_28cfe920d4e5row9_col10\" class=\"data row9 col10\" >14.8</td> \n",
       "    </tr></tbody> \n",
       "</table> "
      ],
      "text/plain": [
       "<pandas.io.formats.style.Styler at 0x112c18518>"
      ]
     },
     "execution_count": 6,
     "metadata": {},
     "output_type": "execute_result"
    }
   ],
   "source": [
    "df.style.highlight_max(subset=['sleep_total'], color='deepskyblue').highlight_min(subset=['sleep_total'], color='tan')"
   ]
  },
  {
   "cell_type": "code",
   "execution_count": 7,
   "metadata": {},
   "outputs": [
    {
     "data": {
      "text/html": [
       "<div>\n",
       "<style scoped>\n",
       "    .dataframe tbody tr th:only-of-type {\n",
       "        vertical-align: middle;\n",
       "    }\n",
       "\n",
       "    .dataframe tbody tr th {\n",
       "        vertical-align: top;\n",
       "    }\n",
       "\n",
       "    .dataframe thead th {\n",
       "        text-align: right;\n",
       "    }\n",
       "</style>\n",
       "<table border=\"1\" class=\"dataframe\">\n",
       "  <thead>\n",
       "    <tr style=\"text-align: right;\">\n",
       "      <th></th>\n",
       "      <th>name</th>\n",
       "      <th>genus</th>\n",
       "      <th>vore</th>\n",
       "      <th>order</th>\n",
       "      <th>conservation</th>\n",
       "      <th>sleep_total</th>\n",
       "      <th>sleep_rem</th>\n",
       "      <th>sleep_cycle</th>\n",
       "      <th>awake</th>\n",
       "      <th>brainwt</th>\n",
       "      <th>bodywt</th>\n",
       "      <th>brain_body_ratio</th>\n",
       "    </tr>\n",
       "  </thead>\n",
       "  <tbody>\n",
       "    <tr>\n",
       "      <th>0</th>\n",
       "      <td>Cheetah</td>\n",
       "      <td>Acinonyx</td>\n",
       "      <td>carni</td>\n",
       "      <td>Carnivora</td>\n",
       "      <td>lc</td>\n",
       "      <td>12.1</td>\n",
       "      <td>NaN</td>\n",
       "      <td>NaN</td>\n",
       "      <td>11.9</td>\n",
       "      <td>NaN</td>\n",
       "      <td>50.000</td>\n",
       "      <td>NaN</td>\n",
       "    </tr>\n",
       "    <tr>\n",
       "      <th>1</th>\n",
       "      <td>Owl monkey</td>\n",
       "      <td>Aotus</td>\n",
       "      <td>omni</td>\n",
       "      <td>Primates</td>\n",
       "      <td>NaN</td>\n",
       "      <td>17.0</td>\n",
       "      <td>1.8</td>\n",
       "      <td>NaN</td>\n",
       "      <td>7.0</td>\n",
       "      <td>0.01550</td>\n",
       "      <td>0.480</td>\n",
       "      <td>0.032292</td>\n",
       "    </tr>\n",
       "    <tr>\n",
       "      <th>2</th>\n",
       "      <td>Mountain beaver</td>\n",
       "      <td>Aplodontia</td>\n",
       "      <td>herbi</td>\n",
       "      <td>Rodentia</td>\n",
       "      <td>nt</td>\n",
       "      <td>14.4</td>\n",
       "      <td>2.4</td>\n",
       "      <td>NaN</td>\n",
       "      <td>9.6</td>\n",
       "      <td>NaN</td>\n",
       "      <td>1.350</td>\n",
       "      <td>NaN</td>\n",
       "    </tr>\n",
       "    <tr>\n",
       "      <th>3</th>\n",
       "      <td>Greater short-tailed shrew</td>\n",
       "      <td>Blarina</td>\n",
       "      <td>omni</td>\n",
       "      <td>Soricomorpha</td>\n",
       "      <td>lc</td>\n",
       "      <td>14.9</td>\n",
       "      <td>2.3</td>\n",
       "      <td>0.133333</td>\n",
       "      <td>9.1</td>\n",
       "      <td>0.00029</td>\n",
       "      <td>0.019</td>\n",
       "      <td>0.015263</td>\n",
       "    </tr>\n",
       "    <tr>\n",
       "      <th>4</th>\n",
       "      <td>Cow</td>\n",
       "      <td>Bos</td>\n",
       "      <td>herbi</td>\n",
       "      <td>Artiodactyla</td>\n",
       "      <td>domesticated</td>\n",
       "      <td>4.0</td>\n",
       "      <td>0.7</td>\n",
       "      <td>0.666667</td>\n",
       "      <td>20.0</td>\n",
       "      <td>0.42300</td>\n",
       "      <td>600.000</td>\n",
       "      <td>0.000705</td>\n",
       "    </tr>\n",
       "    <tr>\n",
       "      <th>5</th>\n",
       "      <td>Three-toed sloth</td>\n",
       "      <td>Bradypus</td>\n",
       "      <td>herbi</td>\n",
       "      <td>Pilosa</td>\n",
       "      <td>NaN</td>\n",
       "      <td>14.4</td>\n",
       "      <td>2.2</td>\n",
       "      <td>0.766667</td>\n",
       "      <td>9.6</td>\n",
       "      <td>NaN</td>\n",
       "      <td>3.850</td>\n",
       "      <td>NaN</td>\n",
       "    </tr>\n",
       "    <tr>\n",
       "      <th>6</th>\n",
       "      <td>Northern fur seal</td>\n",
       "      <td>Callorhinus</td>\n",
       "      <td>carni</td>\n",
       "      <td>Carnivora</td>\n",
       "      <td>vu</td>\n",
       "      <td>8.7</td>\n",
       "      <td>1.4</td>\n",
       "      <td>0.383333</td>\n",
       "      <td>15.3</td>\n",
       "      <td>NaN</td>\n",
       "      <td>20.490</td>\n",
       "      <td>NaN</td>\n",
       "    </tr>\n",
       "    <tr>\n",
       "      <th>7</th>\n",
       "      <td>Vesper mouse</td>\n",
       "      <td>Calomys</td>\n",
       "      <td>NaN</td>\n",
       "      <td>Rodentia</td>\n",
       "      <td>NaN</td>\n",
       "      <td>7.0</td>\n",
       "      <td>NaN</td>\n",
       "      <td>NaN</td>\n",
       "      <td>17.0</td>\n",
       "      <td>NaN</td>\n",
       "      <td>0.045</td>\n",
       "      <td>NaN</td>\n",
       "    </tr>\n",
       "    <tr>\n",
       "      <th>8</th>\n",
       "      <td>Dog</td>\n",
       "      <td>Canis</td>\n",
       "      <td>carni</td>\n",
       "      <td>Carnivora</td>\n",
       "      <td>domesticated</td>\n",
       "      <td>10.1</td>\n",
       "      <td>2.9</td>\n",
       "      <td>0.333333</td>\n",
       "      <td>13.9</td>\n",
       "      <td>0.07000</td>\n",
       "      <td>14.000</td>\n",
       "      <td>0.005000</td>\n",
       "    </tr>\n",
       "    <tr>\n",
       "      <th>9</th>\n",
       "      <td>Roe deer</td>\n",
       "      <td>Capreolus</td>\n",
       "      <td>herbi</td>\n",
       "      <td>Artiodactyla</td>\n",
       "      <td>lc</td>\n",
       "      <td>3.0</td>\n",
       "      <td>NaN</td>\n",
       "      <td>NaN</td>\n",
       "      <td>21.0</td>\n",
       "      <td>0.09820</td>\n",
       "      <td>14.800</td>\n",
       "      <td>0.006635</td>\n",
       "    </tr>\n",
       "  </tbody>\n",
       "</table>\n",
       "</div>"
      ],
      "text/plain": [
       "                         name        genus   vore         order  conservation  \\\n",
       "0                     Cheetah     Acinonyx  carni     Carnivora            lc   \n",
       "1                  Owl monkey        Aotus   omni      Primates           NaN   \n",
       "2             Mountain beaver   Aplodontia  herbi      Rodentia            nt   \n",
       "3  Greater short-tailed shrew      Blarina   omni  Soricomorpha            lc   \n",
       "4                         Cow          Bos  herbi  Artiodactyla  domesticated   \n",
       "5            Three-toed sloth     Bradypus  herbi        Pilosa           NaN   \n",
       "6           Northern fur seal  Callorhinus  carni     Carnivora            vu   \n",
       "7                Vesper mouse      Calomys    NaN      Rodentia           NaN   \n",
       "8                         Dog        Canis  carni     Carnivora  domesticated   \n",
       "9                    Roe deer    Capreolus  herbi  Artiodactyla            lc   \n",
       "\n",
       "   sleep_total  sleep_rem  sleep_cycle  awake  brainwt   bodywt  \\\n",
       "0         12.1        NaN          NaN   11.9      NaN   50.000   \n",
       "1         17.0        1.8          NaN    7.0  0.01550    0.480   \n",
       "2         14.4        2.4          NaN    9.6      NaN    1.350   \n",
       "3         14.9        2.3     0.133333    9.1  0.00029    0.019   \n",
       "4          4.0        0.7     0.666667   20.0  0.42300  600.000   \n",
       "5         14.4        2.2     0.766667    9.6      NaN    3.850   \n",
       "6          8.7        1.4     0.383333   15.3      NaN   20.490   \n",
       "7          7.0        NaN          NaN   17.0      NaN    0.045   \n",
       "8         10.1        2.9     0.333333   13.9  0.07000   14.000   \n",
       "9          3.0        NaN          NaN   21.0  0.09820   14.800   \n",
       "\n",
       "   brain_body_ratio  \n",
       "0               NaN  \n",
       "1          0.032292  \n",
       "2               NaN  \n",
       "3          0.015263  \n",
       "4          0.000705  \n",
       "5               NaN  \n",
       "6               NaN  \n",
       "7               NaN  \n",
       "8          0.005000  \n",
       "9          0.006635  "
      ]
     },
     "execution_count": 7,
     "metadata": {},
     "output_type": "execute_result"
    }
   ],
   "source": [
    "df['brain_body_ratio']=df.brainwt / df.bodywt\n",
    "df"
   ]
  },
  {
   "cell_type": "code",
   "execution_count": 8,
   "metadata": {
    "scrolled": false
   },
   "outputs": [
    {
     "data": {
      "text/html": [
       "<div>\n",
       "<style scoped>\n",
       "    .dataframe tbody tr th:only-of-type {\n",
       "        vertical-align: middle;\n",
       "    }\n",
       "\n",
       "    .dataframe tbody tr th {\n",
       "        vertical-align: top;\n",
       "    }\n",
       "\n",
       "    .dataframe thead th {\n",
       "        text-align: right;\n",
       "    }\n",
       "</style>\n",
       "<table border=\"1\" class=\"dataframe\">\n",
       "  <thead>\n",
       "    <tr style=\"text-align: right;\">\n",
       "      <th></th>\n",
       "      <th>name</th>\n",
       "      <th>genus</th>\n",
       "      <th>vore</th>\n",
       "      <th>order</th>\n",
       "      <th>conservation</th>\n",
       "      <th>sleep_total</th>\n",
       "      <th>sleep_rem</th>\n",
       "      <th>sleep_cycle</th>\n",
       "      <th>awake</th>\n",
       "      <th>brainwt</th>\n",
       "      <th>bodywt</th>\n",
       "      <th>brain_body_ratio</th>\n",
       "    </tr>\n",
       "  </thead>\n",
       "  <tbody>\n",
       "    <tr>\n",
       "      <th>2</th>\n",
       "      <td>Mountain beaver</td>\n",
       "      <td>Aplodontia</td>\n",
       "      <td>herbi</td>\n",
       "      <td>Rodentia</td>\n",
       "      <td>nt</td>\n",
       "      <td>14.4</td>\n",
       "      <td>2.4</td>\n",
       "      <td>NaN</td>\n",
       "      <td>9.6</td>\n",
       "      <td>NaN</td>\n",
       "      <td>1.35</td>\n",
       "      <td>NaN</td>\n",
       "    </tr>\n",
       "    <tr>\n",
       "      <th>4</th>\n",
       "      <td>Cow</td>\n",
       "      <td>Bos</td>\n",
       "      <td>herbi</td>\n",
       "      <td>Artiodactyla</td>\n",
       "      <td>domesticated</td>\n",
       "      <td>4.0</td>\n",
       "      <td>0.7</td>\n",
       "      <td>0.666667</td>\n",
       "      <td>20.0</td>\n",
       "      <td>0.4230</td>\n",
       "      <td>600.00</td>\n",
       "      <td>0.000705</td>\n",
       "    </tr>\n",
       "    <tr>\n",
       "      <th>5</th>\n",
       "      <td>Three-toed sloth</td>\n",
       "      <td>Bradypus</td>\n",
       "      <td>herbi</td>\n",
       "      <td>Pilosa</td>\n",
       "      <td>NaN</td>\n",
       "      <td>14.4</td>\n",
       "      <td>2.2</td>\n",
       "      <td>0.766667</td>\n",
       "      <td>9.6</td>\n",
       "      <td>NaN</td>\n",
       "      <td>3.85</td>\n",
       "      <td>NaN</td>\n",
       "    </tr>\n",
       "    <tr>\n",
       "      <th>9</th>\n",
       "      <td>Roe deer</td>\n",
       "      <td>Capreolus</td>\n",
       "      <td>herbi</td>\n",
       "      <td>Artiodactyla</td>\n",
       "      <td>lc</td>\n",
       "      <td>3.0</td>\n",
       "      <td>NaN</td>\n",
       "      <td>NaN</td>\n",
       "      <td>21.0</td>\n",
       "      <td>0.0982</td>\n",
       "      <td>14.80</td>\n",
       "      <td>0.006635</td>\n",
       "    </tr>\n",
       "  </tbody>\n",
       "</table>\n",
       "</div>"
      ],
      "text/plain": [
       "               name       genus   vore         order  conservation  \\\n",
       "2   Mountain beaver  Aplodontia  herbi      Rodentia            nt   \n",
       "4               Cow         Bos  herbi  Artiodactyla  domesticated   \n",
       "5  Three-toed sloth    Bradypus  herbi        Pilosa           NaN   \n",
       "9          Roe deer   Capreolus  herbi  Artiodactyla            lc   \n",
       "\n",
       "   sleep_total  sleep_rem  sleep_cycle  awake  brainwt  bodywt  \\\n",
       "2         14.4        2.4          NaN    9.6      NaN    1.35   \n",
       "4          4.0        0.7     0.666667   20.0   0.4230  600.00   \n",
       "5         14.4        2.2     0.766667    9.6      NaN    3.85   \n",
       "9          3.0        NaN          NaN   21.0   0.0982   14.80   \n",
       "\n",
       "   brain_body_ratio  \n",
       "2               NaN  \n",
       "4          0.000705  \n",
       "5               NaN  \n",
       "9          0.006635  "
      ]
     },
     "execution_count": 8,
     "metadata": {},
     "output_type": "execute_result"
    }
   ],
   "source": [
    "df.query('vore==\"herbi\"')"
   ]
  },
  {
   "cell_type": "code",
   "execution_count": 9,
   "metadata": {
    "scrolled": true
   },
   "outputs": [
    {
     "data": {
      "image/png": "[encoded data removed]",
      "text/plain": [
       "<matplotlib.figure.Figure at 0x113e5de80>"
      ]
     },
     "metadata": {},
     "output_type": "display_data"
    }
   ],
   "source": [
    "df['sleep_total'].hist(grid=False);"
   ]
  },
  {
   "cell_type": "code",
   "execution_count": 10,
   "metadata": {
    "scrolled": true
   },
   "outputs": [
    {
     "data": {
      "image/png": "[encoded data removed]",
      "text/plain": [
       "<matplotlib.figure.Figure at 0x113f61fd0>"
      ]
     },
     "metadata": {},
     "output_type": "display_data"
    }
   ],
   "source": [
    "df.vore.value_counts().plot.barh();"
   ]
  },
  {
   "cell_type": "code",
   "execution_count": 11,
   "metadata": {
    "scrolled": false
   },
   "outputs": [
    {
     "data": {
      "image/png": "[encoded data removed]",
      "text/plain": [
       "<matplotlib.figure.Figure at 0x113fbfb70>"
      ]
     },
     "metadata": {},
     "output_type": "display_data"
    }
   ],
   "source": [
    "df[['vore', 'sleep_total']].groupby('vore').mean().plot(kind='bar');"
   ]
  },
  {
   "cell_type": "markdown",
   "metadata": {},
   "source": [
    "## Embed YouTube "
   ]
  },
  {
   "cell_type": "code",
   "execution_count": 12,
   "metadata": {
    "scrolled": false
   },
   "outputs": [
    {
     "data": {
      "image/jpeg": "[encoded data removed]",
      "text/html": [
       "\n",
       "        <iframe\n",
       "            width=\"600\"\n",
       "            height=\"340\"\n",
       "            src=\"https://www.youtube.com/embed/w-nPeOhEoyw\"\n",
       "            frameborder=\"0\"\n",
       "            allowfullscreen\n",
       "        ></iframe>\n",
       "        "
      ],
      "text/plain": [
       "<IPython.lib.display.YouTubeVideo at 0x113fcb780>"
      ]
     },
     "execution_count": 12,
     "metadata": {},
     "output_type": "execute_result"
    }
   ],
   "source": [
    "# https://www.youtube.com/watch?v=w-nPeOhEoyw\n",
    "YouTubeVideo('w-nPeOhEoyw', width=600, height=340)"
   ]
  },
  {
   "cell_type": "markdown",
   "metadata": {},
   "source": [
    "## LaTeX"
   ]
  },
  {
   "cell_type": "markdown",
   "metadata": {},
   "source": [
    "Quadratic equation\n",
    "$$x=\\frac{-b\\pm\\sqrt{b^2-4ac}}{2a}$$"
   ]
  },
  {
   "cell_type": "markdown",
   "metadata": {},
   "source": [
    "## Heart curve\n",
    "http://mathworld.wolfram.com/HeartCurve.html\n",
    "$$\\begin{align}\n",
    "x&=16sin^3(t)\\\\\n",
    "y&=13cos(t)-5cos(2t)-2cos(3t)-cos(4t)\n",
    "\\end{align}$$"
   ]
  },
  {
   "cell_type": "code",
   "execution_count": 13,
   "metadata": {},
   "outputs": [],
   "source": [
    "def heart():\n",
    "    # http://mathworld.wolfram.com/HeartCurve.html\n",
    "    t = np.linspace(0, 2 * np.pi, 360)\n",
    "    # print(t)\n",
    "    x = 16 * np.sin(t) ** 3\n",
    "    y = 13 * np.cos(t) - 5 * np.cos(2 * t) - 2 * np.cos(3 * t) - np.cos(4 * t)\n",
    "    plt.plot(x, y, color='pink')\n",
    "    plt.plot(x + 10, y)\n",
    "    plt.show()\n",
    "\n",
    "def heart2():\n",
    "    # http://mathworld.wolfram.com/HeartCurve.html\n",
    "    t = np.linspace(0, 2 * np.pi, 360)\n",
    "    # print(t)\n",
    "    x = 16 * np.sin(t) ** 3\n",
    "    y = 13 * np.cos(t) - 5 * np.cos(2 * t) - 2 * np.cos(3 * t) - np.cos(4 * t)\n",
    "    r = np.linspace(.1, 1, 5)\n",
    "    plt.text(0, 0, \"I \\u2764 Python\")\n",
    "\n",
    "    for n in r:\n",
    "        # plt.plot(x + n, y)\n",
    "        # plt.plot(x * n, y)\n",
    "        # plt.plot(x * n / 5, y)\n",
    "        plt.plot(x * n / 5, y * n / 5)\n",
    "    plt.show()"
   ]
  },
  {
   "cell_type": "code",
   "execution_count": 14,
   "metadata": {},
   "outputs": [
    {
     "data": {
      "image/png": "[encoded data removed]",
      "text/plain": [
       "<matplotlib.figure.Figure at 0x114132048>"
      ]
     },
     "metadata": {},
     "output_type": "display_data"
    }
   ],
   "source": [
    "heart()"
   ]
  },
  {
   "cell_type": "code",
   "execution_count": 15,
   "metadata": {},
   "outputs": [
    {
     "data": {
      "image/png": "[encoded data removed]",
      "text/plain": [
       "<matplotlib.figure.Figure at 0x1140ac4e0>"
      ]
     },
     "metadata": {},
     "output_type": "display_data"
    }
   ],
   "source": [
    "heart2()"
   ]
  }
 ],
 "metadata": {
  "kernelspec": {
   "display_name": "Python 3",
   "language": "python",
   "name": "python3"
  },
  "language_info": {
   "codemirror_mode": {
    "name": "ipython",
    "version": 3
   },
   "file_extension": ".py",
   "mimetype": "text/x-python",
   "name": "python",
   "nbconvert_exporter": "python",
   "pygments_lexer": "ipython3",
   "version": "3.6.3"
  }
 },
 "nbformat": 4,
 "nbformat_minor": 2
}
