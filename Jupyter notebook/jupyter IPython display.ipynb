{
 "cells": [
  {
   "cell_type": "markdown",
   "metadata": {},
   "source": [
    "# IPython.display"
   ]
  },
  {
   "cell_type": "code",
   "execution_count": 1,
   "metadata": {},
   "outputs": [],
   "source": [
    "from IPython.display import IFrame, YouTubeVideo, SVG, HTML"
   ]
  },
  {
   "cell_type": "markdown",
   "metadata": {},
   "source": [
    "## Display Web page"
   ]
  },
  {
   "cell_type": "code",
   "execution_count": 2,
   "metadata": {
    "scrolled": true
   },
   "outputs": [
    {
     "data": {
      "text/html": [
       "\n",
       "        <iframe\n",
       "            width=\"800\"\n",
       "            height=\"300\"\n",
       "            src=\"https://matplotlib.org/examples/color/named_colors.html\"\n",
       "            frameborder=\"0\"\n",
       "            allowfullscreen\n",
       "        ></iframe>\n",
       "        "
      ],
      "text/plain": [
       "<IPython.lib.display.IFrame at 0x111dfc8d0>"
      ]
     },
     "execution_count": 2,
     "metadata": {},
     "output_type": "execute_result"
    }
   ],
   "source": [
    "IFrame(\"https://matplotlib.org/examples/color/named_colors.html\", width=800, height=300)"
   ]
  },
  {
   "cell_type": "code",
   "execution_count": 3,
   "metadata": {},
   "outputs": [],
   "source": [
    "import pandas as pd\n",
    "%matplotlib inline\n",
    "%config InlineBackend.figure_format = 'retina'"
   ]
  },
  {
   "cell_type": "code",
   "execution_count": 4,
   "metadata": {
    "scrolled": true
   },
   "outputs": [
    {
     "data": {
      "text/html": [
       "<div>\n",
       "<style scoped>\n",
       "    .dataframe tbody tr th:only-of-type {\n",
       "        vertical-align: middle;\n",
       "    }\n",
       "\n",
       "    .dataframe tbody tr th {\n",
       "        vertical-align: top;\n",
       "    }\n",
       "\n",
       "    .dataframe thead th {\n",
       "        text-align: right;\n",
       "    }\n",
       "</style>\n",
       "<table border=\"1\" class=\"dataframe\">\n",
       "  <thead>\n",
       "    <tr style=\"text-align: right;\">\n",
       "      <th></th>\n",
       "      <th>name</th>\n",
       "      <th>genus</th>\n",
       "      <th>vore</th>\n",
       "      <th>order</th>\n",
       "      <th>conservation</th>\n",
       "      <th>sleep_total</th>\n",
       "      <th>sleep_rem</th>\n",
       "      <th>sleep_cycle</th>\n",
       "      <th>awake</th>\n",
       "      <th>brainwt</th>\n",
       "      <th>bodywt</th>\n",
       "    </tr>\n",
       "  </thead>\n",
       "  <tbody>\n",
       "    <tr>\n",
       "      <th>56</th>\n",
       "      <td>Deer mouse</td>\n",
       "      <td>Peromyscus</td>\n",
       "      <td>NaN</td>\n",
       "      <td>Rodentia</td>\n",
       "      <td>NaN</td>\n",
       "      <td>11.5</td>\n",
       "      <td>NaN</td>\n",
       "      <td>NaN</td>\n",
       "      <td>12.5</td>\n",
       "      <td>NaN</td>\n",
       "      <td>0.021</td>\n",
       "    </tr>\n",
       "    <tr>\n",
       "      <th>70</th>\n",
       "      <td>Thirteen-lined ground squirrel</td>\n",
       "      <td>Spermophilus</td>\n",
       "      <td>herbi</td>\n",
       "      <td>Rodentia</td>\n",
       "      <td>lc</td>\n",
       "      <td>13.8</td>\n",
       "      <td>3.4</td>\n",
       "      <td>0.216667</td>\n",
       "      <td>10.2</td>\n",
       "      <td>0.004</td>\n",
       "      <td>0.101</td>\n",
       "    </tr>\n",
       "    <tr>\n",
       "      <th>60</th>\n",
       "      <td>Potoroo</td>\n",
       "      <td>Potorous</td>\n",
       "      <td>herbi</td>\n",
       "      <td>Diprotodontia</td>\n",
       "      <td>NaN</td>\n",
       "      <td>11.1</td>\n",
       "      <td>1.5</td>\n",
       "      <td>NaN</td>\n",
       "      <td>12.9</td>\n",
       "      <td>NaN</td>\n",
       "      <td>1.100</td>\n",
       "    </tr>\n",
       "    <tr>\n",
       "      <th>46</th>\n",
       "      <td>Northern grasshopper mouse</td>\n",
       "      <td>Onychomys</td>\n",
       "      <td>carni</td>\n",
       "      <td>Rodentia</td>\n",
       "      <td>lc</td>\n",
       "      <td>14.5</td>\n",
       "      <td>NaN</td>\n",
       "      <td>NaN</td>\n",
       "      <td>9.5</td>\n",
       "      <td>NaN</td>\n",
       "      <td>0.028</td>\n",
       "    </tr>\n",
       "    <tr>\n",
       "      <th>45</th>\n",
       "      <td>Degu</td>\n",
       "      <td>Octodon</td>\n",
       "      <td>herbi</td>\n",
       "      <td>Rodentia</td>\n",
       "      <td>lc</td>\n",
       "      <td>7.7</td>\n",
       "      <td>0.9</td>\n",
       "      <td>NaN</td>\n",
       "      <td>16.3</td>\n",
       "      <td>NaN</td>\n",
       "      <td>0.210</td>\n",
       "    </tr>\n",
       "  </tbody>\n",
       "</table>\n",
       "</div>"
      ],
      "text/plain": [
       "                              name         genus   vore          order  \\\n",
       "56                      Deer mouse    Peromyscus    NaN       Rodentia   \n",
       "70  Thirteen-lined ground squirrel  Spermophilus  herbi       Rodentia   \n",
       "60                         Potoroo      Potorous  herbi  Diprotodontia   \n",
       "46      Northern grasshopper mouse     Onychomys  carni       Rodentia   \n",
       "45                            Degu       Octodon  herbi       Rodentia   \n",
       "\n",
       "   conservation  sleep_total  sleep_rem  sleep_cycle  awake  brainwt  bodywt  \n",
       "56          NaN         11.5        NaN          NaN   12.5      NaN   0.021  \n",
       "70           lc         13.8        3.4     0.216667   10.2    0.004   0.101  \n",
       "60          NaN         11.1        1.5          NaN   12.9      NaN   1.100  \n",
       "46           lc         14.5        NaN          NaN    9.5      NaN   0.028  \n",
       "45           lc          7.7        0.9          NaN   16.3      NaN   0.210  "
      ]
     },
     "execution_count": 4,
     "metadata": {},
     "output_type": "execute_result"
    }
   ],
   "source": [
    "df=pd.read_csv('https://github.com/prasertcbs/tutorial/raw/master/msleep.csv')\n",
    "df.sample(5)"
   ]
  },
  {
   "cell_type": "code",
   "execution_count": 5,
   "metadata": {
    "scrolled": true
   },
   "outputs": [
    {
     "data": {
      "image/png": "[encoded data removed]",
      "text/plain": [
       "<Figure size 432x288 with 1 Axes>"
      ]
     },
     "metadata": {
      "image/png": {
       "height": 250,
       "width": 390
      }
     },
     "output_type": "display_data"
    }
   ],
   "source": [
    "df.vore.value_counts().plot.barh(color='b');"
   ]
  },
  {
   "cell_type": "markdown",
   "metadata": {},
   "source": [
    "## Display PDF\n",
    "https://www.datacamp.com/community/data-science-cheatsheets"
   ]
  },
  {
   "cell_type": "code",
   "execution_count": 6,
   "metadata": {
    "scrolled": true
   },
   "outputs": [
    {
     "data": {
      "text/html": [
       "\n",
       "        <iframe\n",
       "            width=\"800\"\n",
       "            height=\"400\"\n",
       "            src=\"http://datacamp-community.s3.amazonaws.com/f9f06e72-519a-4722-9912-b5de742dbac4\"\n",
       "            frameborder=\"0\"\n",
       "            allowfullscreen\n",
       "        ></iframe>\n",
       "        "
      ],
      "text/plain": [
       "<IPython.lib.display.IFrame at 0x111dfccc0>"
      ]
     },
     "execution_count": 6,
     "metadata": {},
     "output_type": "execute_result"
    }
   ],
   "source": [
    "IFrame('http://datacamp-community.s3.amazonaws.com/f9f06e72-519a-4722-9912-b5de742dbac4', \n",
    "       width=800, height=400)"
   ]
  },
  {
   "cell_type": "markdown",
   "metadata": {},
   "source": [
    "## Embed YouTube "
   ]
  },
  {
   "cell_type": "code",
   "execution_count": 7,
   "metadata": {
    "scrolled": false
   },
   "outputs": [
    {
     "data": {
      "image/jpeg": "[encoded data removed]",
      "text/html": [
       "\n",
       "        <iframe\n",
       "            width=\"640\"\n",
       "            height=\"360\"\n",
       "            src=\"https://www.youtube.com/embed/_NHyJBIxc40\"\n",
       "            frameborder=\"0\"\n",
       "            allowfullscreen\n",
       "        ></iframe>\n",
       "        "
      ],
      "text/plain": [
       "<IPython.lib.display.YouTubeVideo at 0x121d9c9b0>"
      ]
     },
     "execution_count": 7,
     "metadata": {},
     "output_type": "execute_result"
    }
   ],
   "source": [
    "# https://www.youtube.com/watch?v=_NHyJBIxc40\n",
    "YouTubeVideo('_NHyJBIxc40', 640, 360)"
   ]
  },
  {
   "cell_type": "raw",
   "metadata": {},
   "source": [
    "[Mario source:](https://en.wikipedia.org/wiki/Mario)\n",
    "![](https://upload.wikimedia.org/wikipedia/en/9/99/MarioSMBW.png 'Mario')  "
   ]
  },
  {
   "cell_type": "markdown",
   "metadata": {},
   "source": [
    "[Mario source:](https://en.wikipedia.org/wiki/Mario)\n",
    "![](https://upload.wikimedia.org/wikipedia/en/9/99/MarioSMBW.png 'Mario')  "
   ]
  },
  {
   "cell_type": "markdown",
   "metadata": {
    "scrolled": true
   },
   "source": [
    "![]('https://upload.wikimedia.org/wikipedia/commons/7/70/Amazon_logo_plain.svg' 'amazon logo')"
   ]
  },
  {
   "cell_type": "code",
   "execution_count": 8,
   "metadata": {
    "scrolled": true
   },
   "outputs": [
    {
     "data": {
      "text/html": [
       "\n",
       "        <iframe\n",
       "            width=\"300\"\n",
       "            height=\"300\"\n",
       "            src=\"https://upload.wikimedia.org/wikipedia/en/9/99/MarioSMBW.png\"\n",
       "            frameborder=\"0\"\n",
       "            allowfullscreen\n",
       "        ></iframe>\n",
       "        "
      ],
      "text/plain": [
       "<IPython.lib.display.IFrame at 0x121db4080>"
      ]
     },
     "execution_count": 8,
     "metadata": {},
     "output_type": "execute_result"
    }
   ],
   "source": [
    "IFrame(\"https://upload.wikimedia.org/wikipedia/en/9/99/MarioSMBW.png\", width=300, height=300)"
   ]
  },
  {
   "cell_type": "code",
   "execution_count": 9,
   "metadata": {
    "scrolled": true
   },
   "outputs": [
    {
     "data": {
      "text/html": [
       "\n",
       "        <iframe\n",
       "            width=\"600\"\n",
       "            height=\"200\"\n",
       "            src=\"https://upload.wikimedia.org/wikipedia/commons/7/70/Amazon_logo_plain.svg\"\n",
       "            frameborder=\"0\"\n",
       "            allowfullscreen\n",
       "        ></iframe>\n",
       "        "
      ],
      "text/plain": [
       "<IPython.lib.display.IFrame at 0x121d9cd30>"
      ]
     },
     "execution_count": 9,
     "metadata": {},
     "output_type": "execute_result"
    }
   ],
   "source": [
    "IFrame('https://upload.wikimedia.org/wikipedia/commons/7/70/Amazon_logo_plain.svg', \n",
    "       width=600, height=200)"
   ]
  },
  {
   "cell_type": "code",
   "execution_count": 10,
   "metadata": {
    "scrolled": true
   },
   "outputs": [
    {
     "data": {
      "text/html": [
       "\n",
       "        <iframe\n",
       "            width=\"100\"\n",
       "            height=\"100\"\n",
       "            src=\"https://upload.wikimedia.org/wikipedia/commons/f/ff/Vectorized_Apple_gray_logo.svg\"\n",
       "            frameborder=\"0\"\n",
       "            allowfullscreen\n",
       "        ></iframe>\n",
       "        "
      ],
      "text/plain": [
       "<IPython.lib.display.IFrame at 0x121de5748>"
      ]
     },
     "execution_count": 10,
     "metadata": {},
     "output_type": "execute_result"
    }
   ],
   "source": [
    "IFrame('https://upload.wikimedia.org/wikipedia/commons/f/ff/Vectorized_Apple_gray_logo.svg', \n",
    "       width=100, height=100)"
   ]
  },
  {
   "cell_type": "code",
   "execution_count": 11,
   "metadata": {
    "scrolled": true
   },
   "outputs": [
    {
     "data": {
      "text/html": [
       "\n",
       "        <iframe\n",
       "            width=\"400\"\n",
       "            height=\"400\"\n",
       "            src=\"https://upload.wikimedia.org/wikipedia/commons/f/ff/Vectorized_Apple_gray_logo.svg\"\n",
       "            frameborder=\"0\"\n",
       "            allowfullscreen\n",
       "        ></iframe>\n",
       "        "
      ],
      "text/plain": [
       "<IPython.lib.display.IFrame at 0x121de57f0>"
      ]
     },
     "execution_count": 11,
     "metadata": {},
     "output_type": "execute_result"
    }
   ],
   "source": [
    "IFrame('https://upload.wikimedia.org/wikipedia/commons/f/ff/Vectorized_Apple_gray_logo.svg', \n",
    "       width=400, height=400)"
   ]
  },
  {
   "cell_type": "markdown",
   "metadata": {},
   "source": [
    "## Display HTML"
   ]
  },
  {
   "cell_type": "code",
   "execution_count": 12,
   "metadata": {},
   "outputs": [
    {
     "data": {
      "text/html": [
       "\n",
       "<span style=color:red;font-size:150%>Hello</span> <span style=color:blue;font-size:200%>Python</span>\n"
      ],
      "text/plain": [
       "<IPython.core.display.HTML object>"
      ]
     },
     "execution_count": 12,
     "metadata": {},
     "output_type": "execute_result"
    }
   ],
   "source": [
    "s='''\n",
    "<span style=color:red;font-size:150%>Hello</span> <span style=color:blue;font-size:200%>Python</span>\n",
    "'''\n",
    "HTML(s)"
   ]
  },
  {
   "cell_type": "raw",
   "metadata": {},
   "source": [
    "<img src=https://upload.wikimedia.org/wikipedia/en/9/99/MarioSMBW.png></img>"
   ]
  },
  {
   "cell_type": "markdown",
   "metadata": {},
   "source": [
    "<img src=https://upload.wikimedia.org/wikipedia/en/9/99/MarioSMBW.png></img>"
   ]
  },
  {
   "cell_type": "code",
   "execution_count": 14,
   "metadata": {},
   "outputs": [
    {
     "data": {
      "text/html": [
       "\n",
       "<img src=https://upload.wikimedia.org/wikipedia/en/9/99/MarioSMBW.png>\n",
       "<img src=\"https://assets.pokemon.com/assets/cms2/img/pokedex/full/729.png\" width=200 height=200>\n"
      ],
      "text/plain": [
       "<IPython.core.display.HTML object>"
      ]
     },
     "execution_count": 14,
     "metadata": {},
     "output_type": "execute_result"
    }
   ],
   "source": [
    "s='''\n",
    "<img src=https://upload.wikimedia.org/wikipedia/en/9/99/MarioSMBW.png>\n",
    "<img src=\"https://assets.pokemon.com/assets/cms2/img/pokedex/full/729.png\" width=200 height=200>\n",
    "'''\n",
    "HTML(s)"
   ]
  },
  {
   "cell_type": "code",
   "execution_count": 15,
   "metadata": {
    "scrolled": true
   },
   "outputs": [
    {
     "data": {
      "text/html": [
       "\n",
       "<table class=\"table table-hover table-set col-3-center table-set-border-yellow\">\n",
       "    <thead>\n",
       "        <tr>\n",
       "            <th></th>\n",
       "            <th>\n",
       "                <strong>ล่าสุด</strong>\n",
       "            </th>\n",
       "            <th>\n",
       "                <strong>เปลี่ยนแปลง</strong>\n",
       "            </th>\n",
       "            <th>\n",
       "                <strong>มูลค่า\n",
       "                    <br>(ลบ.)</strong>\n",
       "            </th>\n",
       "        </tr>\n",
       "    </thead>\n",
       "    <tbody>\n",
       "        <tr>\n",
       "            <td>\n",
       "                <a class=\"blacklink-u\" href=\"https://marketdata.set.or.th/mkt/marketsummary.do?language=th&amp;country=TH\" target=\"_blank\">SET</a>\n",
       "            </td>\n",
       "            <td style=\"text-align: right;\" class=\"set-color-red\">\n",
       "                <i class=\"fa fa-caret-down\"></i>\n",
       "                1,705.33\n",
       "            </td>\n",
       "            <td style=\"text-align: right;\" class=\"set-color-red\">-1.19</td>\n",
       "            <td style=\"text-align: right;\">61,883.85</td>\n",
       "        </tr>\n",
       "        <tr>\n",
       "            <td>\n",
       "                <a class=\"blacklink-u\" href=\"https://marketdata.set.or.th/mkt/sectorquotation.do?sector=SET50&amp;language=th&amp;country=TH\"\n",
       "                    target=\"_blank\">SET50</a>\n",
       "            </td>\n",
       "            <td style=\"text-align: right;\" class=\"set-color-green\">\n",
       "                <i class=\"fa fa-caret-up\"></i>\n",
       "                1,091.68\n",
       "            </td>\n",
       "            <td style=\"text-align: right;\" class=\"set-color-green\">+0.62</td>\n",
       "            <td style=\"text-align: right;\">40,293.01</td>\n",
       "        </tr>\n",
       "        <tr>\n",
       "            <td>\n",
       "                <a class=\"blacklink-u\" href=\"https://marketdata.set.or.th/mkt/sectorquotation.do?sector=SET100&amp;language=th&amp;country=TH\"\n",
       "                    target=\"_blank\">SET100</a>\n",
       "            </td>\n",
       "            <td style=\"text-align: right;\" class=\"set-color-red\">\n",
       "                <i class=\"fa fa-caret-down\"></i>\n",
       "                2,455.09\n",
       "            </td>\n",
       "            <td style=\"text-align: right;\" class=\"set-color-red\">-0.58</td>\n",
       "            <td style=\"text-align: right;\">48,948.34</td>\n",
       "        </tr>\n",
       "        <tr>\n",
       "            <td>\n",
       "                <a class=\"blacklink-u\" href=\"https://marketdata.set.or.th/mkt/sectorquotation.do?sector=sSET&amp;language=th&amp;country=TH\"\n",
       "                    target=\"_blank\">sSET</a>\n",
       "            </td>\n",
       "            <td style=\"text-align: right;\" class=\"set-color-red\">\n",
       "                <i class=\"fa fa-caret-down\"></i>\n",
       "                1,095.13\n",
       "            </td>\n",
       "            <td style=\"text-align: right;\" class=\"set-color-red\">-11.36</td>\n",
       "            <td style=\"text-align: right;\">3,471.48</td>\n",
       "        </tr>\n",
       "        <tr>\n",
       "            <td>\n",
       "                <a class=\"blacklink-u\" href=\"https://marketdata.set.or.th/mkt/sectorquotation.do?sector=SETHD&amp;language=th&amp;country=TH\"\n",
       "                    target=\"_blank\">SETHD</a>\n",
       "            </td>\n",
       "            <td style=\"text-align: right;\" class=\"set-color-green\">\n",
       "                <i class=\"fa fa-caret-up\"></i>\n",
       "                1,262.58\n",
       "            </td>\n",
       "            <td style=\"text-align: right;\" class=\"set-color-green\">+9.26</td>\n",
       "            <td style=\"text-align: right;\">18,259.40</td>\n",
       "        </tr>\n",
       "    </tbody>\n",
       "</table>"
      ],
      "text/plain": [
       "<IPython.core.display.HTML object>"
      ]
     },
     "execution_count": 15,
     "metadata": {},
     "output_type": "execute_result"
    }
   ],
   "source": [
    "s='''\n",
    "<table class=\"table table-hover table-set col-3-center table-set-border-yellow\">\n",
    "    <thead>\n",
    "        <tr>\n",
    "            <th></th>\n",
    "            <th>\n",
    "                <strong>ล่าสุด</strong>\n",
    "            </th>\n",
    "            <th>\n",
    "                <strong>เปลี่ยนแปลง</strong>\n",
    "            </th>\n",
    "            <th>\n",
    "                <strong>มูลค่า\n",
    "                    <br>(ลบ.)</strong>\n",
    "            </th>\n",
    "        </tr>\n",
    "    </thead>\n",
    "    <tbody>\n",
    "        <tr>\n",
    "            <td>\n",
    "                <a class=\"blacklink-u\" href=\"https://marketdata.set.or.th/mkt/marketsummary.do?language=th&amp;country=TH\" target=\"_blank\">SET</a>\n",
    "            </td>\n",
    "            <td style=\"text-align: right;\" class=\"set-color-red\">\n",
    "                <i class=\"fa fa-caret-down\"></i>\n",
    "                1,705.33\n",
    "            </td>\n",
    "            <td style=\"text-align: right;\" class=\"set-color-red\">-1.19</td>\n",
    "            <td style=\"text-align: right;\">61,883.85</td>\n",
    "        </tr>\n",
    "        <tr>\n",
    "            <td>\n",
    "                <a class=\"blacklink-u\" href=\"https://marketdata.set.or.th/mkt/sectorquotation.do?sector=SET50&amp;language=th&amp;country=TH\"\n",
    "                    target=\"_blank\">SET50</a>\n",
    "            </td>\n",
    "            <td style=\"text-align: right;\" class=\"set-color-green\">\n",
    "                <i class=\"fa fa-caret-up\"></i>\n",
    "                1,091.68\n",
    "            </td>\n",
    "            <td style=\"text-align: right;\" class=\"set-color-green\">+0.62</td>\n",
    "            <td style=\"text-align: right;\">40,293.01</td>\n",
    "        </tr>\n",
    "        <tr>\n",
    "            <td>\n",
    "                <a class=\"blacklink-u\" href=\"https://marketdata.set.or.th/mkt/sectorquotation.do?sector=SET100&amp;language=th&amp;country=TH\"\n",
    "                    target=\"_blank\">SET100</a>\n",
    "            </td>\n",
    "            <td style=\"text-align: right;\" class=\"set-color-red\">\n",
    "                <i class=\"fa fa-caret-down\"></i>\n",
    "                2,455.09\n",
    "            </td>\n",
    "            <td style=\"text-align: right;\" class=\"set-color-red\">-0.58</td>\n",
    "            <td style=\"text-align: right;\">48,948.34</td>\n",
    "        </tr>\n",
    "        <tr>\n",
    "            <td>\n",
    "                <a class=\"blacklink-u\" href=\"https://marketdata.set.or.th/mkt/sectorquotation.do?sector=sSET&amp;language=th&amp;country=TH\"\n",
    "                    target=\"_blank\">sSET</a>\n",
    "            </td>\n",
    "            <td style=\"text-align: right;\" class=\"set-color-red\">\n",
    "                <i class=\"fa fa-caret-down\"></i>\n",
    "                1,095.13\n",
    "            </td>\n",
    "            <td style=\"text-align: right;\" class=\"set-color-red\">-11.36</td>\n",
    "            <td style=\"text-align: right;\">3,471.48</td>\n",
    "        </tr>\n",
    "        <tr>\n",
    "            <td>\n",
    "                <a class=\"blacklink-u\" href=\"https://marketdata.set.or.th/mkt/sectorquotation.do?sector=SETHD&amp;language=th&amp;country=TH\"\n",
    "                    target=\"_blank\">SETHD</a>\n",
    "            </td>\n",
    "            <td style=\"text-align: right;\" class=\"set-color-green\">\n",
    "                <i class=\"fa fa-caret-up\"></i>\n",
    "                1,262.58\n",
    "            </td>\n",
    "            <td style=\"text-align: right;\" class=\"set-color-green\">+9.26</td>\n",
    "            <td style=\"text-align: right;\">18,259.40</td>\n",
    "        </tr>\n",
    "    </tbody>\n",
    "</table>'''\n",
    "HTML(s)"
   ]
  },
  {
   "cell_type": "markdown",
   "metadata": {},
   "source": [
    "## get text file from url and display its content"
   ]
  },
  {
   "cell_type": "code",
   "execution_count": 16,
   "metadata": {},
   "outputs": [],
   "source": [
    "import requests"
   ]
  },
  {
   "cell_type": "code",
   "execution_count": 17,
   "metadata": {
    "scrolled": true
   },
   "outputs": [
    {
     "name": "stdout",
     "output_type": "stream",
     "text": [
      "model,mpg,cyl,disp,hp,drat,wt,qsec,vs,am,gear,carb\n",
      "Mazda RX4,21.0,6,160.0,110,3.9,2.62,16.46,0,1,4,4\n",
      "Mazda RX4 Wag,21.0,6,160.0,110,3.9,2.875,17.02,0,1,4,4\n",
      "Datsun 710,22.8,4,108.0,93,3.85,2.32,18.61,1,1,4,1\n",
      "Hornet 4 Drive,21.4,6,258.0,110,3.08,3.215,19.44,1,0,3,1\n",
      "Hornet Sportabout,18.7,8,360.0,175,3.15,3.44,17.02,0,0,3,2\n",
      "Valiant,18.1,6,225.0,105,2.76,3.46,20.22,1,0,3,1\n",
      "Duster 360,14.3,8,360.0,245,3.21,3.57,15.84,0,0,3,4\n",
      "Merc 240D,24.4,4,146.7,62,3.69,3.19,20.0,1,0,4,2\n",
      "Merc 230,22.8,4,140.8,95,3.92,3.15,22.9,1,0,4,2\n",
      "Merc 280,19.2,6,167.6,123,3.92,3.44,18.3,1,0,4,4\n",
      "Merc 280C,17.8,6,167.6,123,3.92,3.44,18.9,1,0,4,4\n",
      "Merc 450SE,16.4,8,275.8,180,3.07,4.07,17.4,0,0,3,3\n",
      "Merc 450SL,17.3,8,275.8,180,3.07,3.73,17.6,0,0,3,3\n",
      "Merc 450SLC,15.2,8,275.8,180,3.07,3.78,18.0,0,0,3,3\n",
      "Cadillac Fleetwood,10.4,8,472.0,205,2.93,5.25,17.98,0,0,3,4\n",
      "Lincoln Continental,10.4,8,460.0,215,3.0,5.424,17.82,0,0,3,4\n",
      "Chrysler Imperial,14.7,8,440.0,230,3.23,5.345,17.42,0,0,3,4\n",
      "Fiat 128,32.4,4,78.7,66,4.08,2.2,19.47,1,1,4,1\n",
      "Honda Civic,30.4,4,75.7,52,4.93,1.615,18.52,1,1,4,2\n",
      "Toyota Corolla,33.9,4,71.1,65,4.22,1.835,19.9,1,1,4,1\n",
      "Toyota Corona,21.5,4,120.1,97,3.7,2.465,20.01,1,0,3,1\n",
      "Dodge Challenger,15.5,8,318.0,150,2.76,3.52,16.87,0,0,3,2\n",
      "AMC Javelin,15.2,8,304.0,150,3.15,3.435,17.3,0,0,3,2\n",
      "Camaro Z28,13.3,8,350.0,245,3.73,3.84,15.41,0,0,3,4\n",
      "Pontiac Firebird,19.2,8,400.0,175,3.08,3.845,17.05,0,0,3,2\n",
      "Fiat X1-9,27.3,4,79.0,66,4.08,1.935,18.9,1,1,4,1\n",
      "Porsche 914-2,26.0,4,120.3,91,4.43,2.14,16.7,0,1,5,2\n",
      "Lotus Europa,30.4,4,95.1,113,3.77,1.513,16.9,1,1,5,2\n",
      "Ford Pantera L,15.8,8,351.0,264,4.22,3.17,14.5,0,1,5,4\n",
      "Ferrari Dino,19.7,6,145.0,175,3.62,2.77,15.5,0,1,5,6\n",
      "Maserati Bora,15.0,8,301.0,335,3.54,3.57,14.6,0,1,5,8\n",
      "Volvo 142E,21.4,4,121.0,109,4.11,2.78,18.6,1,1,4,2\n",
      "\n"
     ]
    }
   ],
   "source": [
    "r = requests.get('https://github.com/prasertcbs/tutorial/raw/master/mtcars.csv')\n",
    "print(r.text)"
   ]
  },
  {
   "cell_type": "code",
   "execution_count": null,
   "metadata": {},
   "outputs": [],
   "source": []
  }
 ],
 "metadata": {
  "kernelspec": {
   "display_name": "Python 3",
   "language": "python",
   "name": "python3"
  },
  "language_info": {
   "codemirror_mode": {
    "name": "ipython",
    "version": 3
   },
   "file_extension": ".py",
   "mimetype": "text/x-python",
   "name": "python",
   "nbconvert_exporter": "python",
   "pygments_lexer": "ipython3",
   "version": "3.6.5"
  }
 },
 "nbformat": 4,
 "nbformat_minor": 2
}
